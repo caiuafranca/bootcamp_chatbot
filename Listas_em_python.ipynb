{
  "nbformat": 4,
  "nbformat_minor": 0,
  "metadata": {
    "colab": {
      "name": "Listas_em_python.ipynb",
      "version": "0.3.2",
      "provenance": [],
      "collapsed_sections": [],
      "include_colab_link": true
    },
    "kernelspec": {
      "name": "python3",
      "display_name": "Python 3"
    }
  },
  "cells": [
    {
      "cell_type": "markdown",
      "metadata": {
        "id": "view-in-github",
        "colab_type": "text"
      },
      "source": [
        "<a href=\"https://colab.research.google.com/github/caiuafranca/bootcamp_chatbot/blob/master/Listas_em_python.ipynb\" target=\"_parent\"><img src=\"https://colab.research.google.com/assets/colab-badge.svg\" alt=\"Open In Colab\"/></a>"
      ]
    },
    {
      "cell_type": "code",
      "metadata": {
        "id": "Ij8WNx6_aj62",
        "colab_type": "code",
        "colab": {}
      },
      "source": [
        "# Criando uam Lista\n",
        "\n",
        "lista = []\n",
        "\n"
      ],
      "execution_count": 0,
      "outputs": []
    },
    {
      "cell_type": "code",
      "metadata": {
        "id": "57mQSSXYa0D5",
        "colab_type": "code",
        "colab": {
          "base_uri": "https://localhost:8080/",
          "height": 34
        },
        "outputId": "3e0d458f-d133-4ba6-ce7e-8f26950ff6fc"
      },
      "source": [
        "print(type(lista))"
      ],
      "execution_count": 2,
      "outputs": [
        {
          "output_type": "stream",
          "text": [
            "<class 'list'>\n"
          ],
          "name": "stdout"
        }
      ]
    },
    {
      "cell_type": "code",
      "metadata": {
        "id": "LS4wo76ha3_-",
        "colab_type": "code",
        "colab": {}
      },
      "source": [
        "# adicionando elementos no fim da lista\n",
        "lista.append(\"Caiua\")\n",
        "lista.append(38)"
      ],
      "execution_count": 0,
      "outputs": []
    },
    {
      "cell_type": "code",
      "metadata": {
        "id": "i-q2NJG2a7x3",
        "colab_type": "code",
        "colab": {
          "base_uri": "https://localhost:8080/",
          "height": 34
        },
        "outputId": "6ec9f5fb-fd9c-4af5-d2c3-ed911a794b0f"
      },
      "source": [
        "# apresentando elementos da lista\n",
        "lista"
      ],
      "execution_count": 6,
      "outputs": [
        {
          "output_type": "execute_result",
          "data": {
            "text/plain": [
              "['Caiua', 'Caiua', 38]"
            ]
          },
          "metadata": {
            "tags": []
          },
          "execution_count": 6
        }
      ]
    },
    {
      "cell_type": "code",
      "metadata": {
        "id": "xqfKTeqDbJm2",
        "colab_type": "code",
        "colab": {}
      },
      "source": [
        "# removendo elementos da Lista\n",
        "\n",
        "lista.remove('Caiua')"
      ],
      "execution_count": 0,
      "outputs": []
    },
    {
      "cell_type": "code",
      "metadata": {
        "id": "5dSuk_kZbP32",
        "colab_type": "code",
        "colab": {
          "base_uri": "https://localhost:8080/",
          "height": 34
        },
        "outputId": "72dfe1dc-2a58-453c-fd43-43f35b9d5bb9"
      },
      "source": [
        "lista"
      ],
      "execution_count": 8,
      "outputs": [
        {
          "output_type": "execute_result",
          "data": {
            "text/plain": [
              "['Caiua', 38]"
            ]
          },
          "metadata": {
            "tags": []
          },
          "execution_count": 8
        }
      ]
    },
    {
      "cell_type": "code",
      "metadata": {
        "id": "8Sci9R83bdGF",
        "colab_type": "code",
        "colab": {}
      },
      "source": [
        "# limpar a lista\n",
        "lista.clear()"
      ],
      "execution_count": 0,
      "outputs": []
    },
    {
      "cell_type": "code",
      "metadata": {
        "id": "fi483MToblvX",
        "colab_type": "code",
        "colab": {
          "base_uri": "https://localhost:8080/",
          "height": 34
        },
        "outputId": "67740e69-da83-4e7b-a654-a6b814e4c7de"
      },
      "source": [
        "lista"
      ],
      "execution_count": 11,
      "outputs": [
        {
          "output_type": "execute_result",
          "data": {
            "text/plain": [
              "[]"
            ]
          },
          "metadata": {
            "tags": []
          },
          "execution_count": 11
        }
      ]
    },
    {
      "cell_type": "code",
      "metadata": {
        "id": "kJVvMobDbsAX",
        "colab_type": "code",
        "colab": {
          "base_uri": "https://localhost:8080/",
          "height": 34
        },
        "outputId": "d4dd4648-941c-47cb-bf9b-1fe558d18139"
      },
      "source": [
        "# insere objeto passando o indice da lista\n",
        "lista.insert(0,'Caiua')\n",
        "lista"
      ],
      "execution_count": 14,
      "outputs": [
        {
          "output_type": "execute_result",
          "data": {
            "text/plain": [
              "['Caiua', 'Caiua']"
            ]
          },
          "metadata": {
            "tags": []
          },
          "execution_count": 14
        }
      ]
    },
    {
      "cell_type": "code",
      "metadata": {
        "id": "W42YjUjOcBsi",
        "colab_type": "code",
        "colab": {
          "base_uri": "https://localhost:8080/",
          "height": 34
        },
        "outputId": "fa5a43c7-e30a-4f4d-c39a-54f4c8edadb0"
      },
      "source": [
        "# remove um elemento da lista passado um indice\n",
        "lista.pop(0)"
      ],
      "execution_count": 15,
      "outputs": [
        {
          "output_type": "execute_result",
          "data": {
            "text/plain": [
              "'Caiua'"
            ]
          },
          "metadata": {
            "tags": []
          },
          "execution_count": 15
        }
      ]
    },
    {
      "cell_type": "code",
      "metadata": {
        "id": "UsI--h7_cTV5",
        "colab_type": "code",
        "colab": {}
      },
      "source": [
        "lista.append(38)\n",
        "lista.append('Analista de Bi Nivel 1')"
      ],
      "execution_count": 0,
      "outputs": []
    },
    {
      "cell_type": "code",
      "metadata": {
        "id": "FaGdoUMece9w",
        "colab_type": "code",
        "colab": {
          "base_uri": "https://localhost:8080/",
          "height": 34
        },
        "outputId": "051e8712-a70f-43a1-97a6-7f19ace169f9"
      },
      "source": [
        "lista"
      ],
      "execution_count": 17,
      "outputs": [
        {
          "output_type": "execute_result",
          "data": {
            "text/plain": [
              "['Caiua', 38, 'Analista de Bi Nivel 1']"
            ]
          },
          "metadata": {
            "tags": []
          },
          "execution_count": 17
        }
      ]
    }
  ]
}
{
  "nbformat": 4,
  "nbformat_minor": 0,
  "metadata": {
    "colab": {
      "name": "Listas_em_python.ipynb",
      "version": "0.3.2",
      "provenance": [],
      "collapsed_sections": [],
      "include_colab_link": true
    },
    "kernelspec": {
      "name": "python3",
      "display_name": "Python 3"
    }
  },
  "cells": [
    {
      "cell_type": "markdown",
      "metadata": {
        "id": "view-in-github",
        "colab_type": "text"
      },
      "source": [
        "<a href=\"https://colab.research.google.com/github/caiuafranca/bootcamp_chatbot/blob/master/Listas_em_python.ipynb\" target=\"_parent\"><img src=\"https://colab.research.google.com/assets/colab-badge.svg\" alt=\"Open In Colab\"/></a>"
      ]
    },
    {
      "cell_type": "code",
      "metadata": {
        "id": "Ij8WNx6_aj62",
        "colab_type": "code",
        "colab": {}
      },
      "source": [
        "# Criando uam Lista\n",
        "\n",
        "lista = []\n",
        "\n"
      ],
      "execution_count": 0,
      "outputs": []
    },
    {
      "cell_type": "code",
      "metadata": {
        "id": "57mQSSXYa0D5",
        "colab_type": "code",
        "outputId": "3e0d458f-d133-4ba6-ce7e-8f26950ff6fc",
        "colab": {
          "base_uri": "https://localhost:8080/",
          "height": 34
        }
      },
      "source": [
        "print(type(lista))"
      ],
      "execution_count": 0,
      "outputs": [
        {
          "output_type": "stream",
          "text": [
            "<class 'list'>\n"
          ],
          "name": "stdout"
        }
      ]
    },
    {
      "cell_type": "code",
      "metadata": {
        "id": "LS4wo76ha3_-",
        "colab_type": "code",
        "colab": {}
      },
      "source": [
        "# adicionando elementos no fim da lista\n",
        "lista.append(\"Caiua\")\n",
        "lista.append(38)"
      ],
      "execution_count": 0,
      "outputs": []
    },
    {
      "cell_type": "code",
      "metadata": {
        "id": "i-q2NJG2a7x3",
        "colab_type": "code",
        "outputId": "6ec9f5fb-fd9c-4af5-d2c3-ed911a794b0f",
        "colab": {
          "base_uri": "https://localhost:8080/",
          "height": 34
        }
      },
      "source": [
        "# apresentando elementos da lista\n",
        "lista"
      ],
      "execution_count": 0,
      "outputs": [
        {
          "output_type": "execute_result",
          "data": {
            "text/plain": [
              "['Caiua', 'Caiua', 38]"
            ]
          },
          "metadata": {
            "tags": []
          },
          "execution_count": 6
        }
      ]
    },
    {
      "cell_type": "code",
      "metadata": {
        "id": "xqfKTeqDbJm2",
        "colab_type": "code",
        "colab": {}
      },
      "source": [
        "# removendo elementos da Lista\n",
        "\n",
        "lista.remove('Caiua')"
      ],
      "execution_count": 0,
      "outputs": []
    },
    {
      "cell_type": "code",
      "metadata": {
        "id": "5dSuk_kZbP32",
        "colab_type": "code",
        "outputId": "72dfe1dc-2a58-453c-fd43-43f35b9d5bb9",
        "colab": {
          "base_uri": "https://localhost:8080/",
          "height": 34
        }
      },
      "source": [
        "lista"
      ],
      "execution_count": 0,
      "outputs": [
        {
          "output_type": "execute_result",
          "data": {
            "text/plain": [
              "['Caiua', 38]"
            ]
          },
          "metadata": {
            "tags": []
          },
          "execution_count": 8
        }
      ]
    },
    {
      "cell_type": "code",
      "metadata": {
        "id": "8Sci9R83bdGF",
        "colab_type": "code",
        "colab": {}
      },
      "source": [
        "# limpar a lista\n",
        "lista.clear()"
      ],
      "execution_count": 0,
      "outputs": []
    },
    {
      "cell_type": "code",
      "metadata": {
        "id": "fi483MToblvX",
        "colab_type": "code",
        "outputId": "67740e69-da83-4e7b-a654-a6b814e4c7de",
        "colab": {
          "base_uri": "https://localhost:8080/",
          "height": 34
        }
      },
      "source": [
        "lista"
      ],
      "execution_count": 0,
      "outputs": [
        {
          "output_type": "execute_result",
          "data": {
            "text/plain": [
              "[]"
            ]
          },
          "metadata": {
            "tags": []
          },
          "execution_count": 11
        }
      ]
    },
    {
      "cell_type": "code",
      "metadata": {
        "id": "kJVvMobDbsAX",
        "colab_type": "code",
        "outputId": "d4dd4648-941c-47cb-bf9b-1fe558d18139",
        "colab": {
          "base_uri": "https://localhost:8080/",
          "height": 34
        }
      },
      "source": [
        "# insere objeto passando o indice da lista\n",
        "lista.insert(0,'Caiua')\n",
        "lista"
      ],
      "execution_count": 0,
      "outputs": [
        {
          "output_type": "execute_result",
          "data": {
            "text/plain": [
              "['Caiua', 'Caiua']"
            ]
          },
          "metadata": {
            "tags": []
          },
          "execution_count": 14
        }
      ]
    },
    {
      "cell_type": "code",
      "metadata": {
        "id": "W42YjUjOcBsi",
        "colab_type": "code",
        "outputId": "fa5a43c7-e30a-4f4d-c39a-54f4c8edadb0",
        "colab": {
          "base_uri": "https://localhost:8080/",
          "height": 34
        }
      },
      "source": [
        "# remove um elemento da lista passado um indice\n",
        "lista.pop(0)"
      ],
      "execution_count": 0,
      "outputs": [
        {
          "output_type": "execute_result",
          "data": {
            "text/plain": [
              "'Caiua'"
            ]
          },
          "metadata": {
            "tags": []
          },
          "execution_count": 15
        }
      ]
    },
    {
      "cell_type": "code",
      "metadata": {
        "id": "UsI--h7_cTV5",
        "colab_type": "code",
        "colab": {}
      },
      "source": [
        "lista.append(38)\n",
        "lista.append('Analista de Bi Nivel 1')"
      ],
      "execution_count": 0,
      "outputs": []
    },
    {
      "cell_type": "code",
      "metadata": {
        "id": "FaGdoUMece9w",
        "colab_type": "code",
        "outputId": "051e8712-a70f-43a1-97a6-7f19ace169f9",
        "colab": {
          "base_uri": "https://localhost:8080/",
          "height": 34
        }
      },
      "source": [
        "lista"
      ],
      "execution_count": 0,
      "outputs": [
        {
          "output_type": "execute_result",
          "data": {
            "text/plain": [
              "['Caiua', 38, 'Analista de Bi Nivel 1']"
            ]
          },
          "metadata": {
            "tags": []
          },
          "execution_count": 17
        }
      ]
    },
    {
      "cell_type": "code",
      "metadata": {
        "id": "WReYSnacc0lx",
        "colab_type": "code",
        "outputId": "71a7f15a-decf-4cbc-b9af-3d14e9a4e49d",
        "colab": {
          "base_uri": "https://localhost:8080/",
          "height": 68
        }
      },
      "source": [
        "# percorre a lista usando laço\n",
        "for e in lista:\n",
        "  print(e)\n",
        "  "
      ],
      "execution_count": 0,
      "outputs": [
        {
          "output_type": "stream",
          "text": [
            "Caiua\n",
            "38\n",
            "Analista de Bi Nivel 1\n"
          ],
          "name": "stdout"
        }
      ]
    },
    {
      "cell_type": "markdown",
      "metadata": {
        "id": "81vI07U_dFi9",
        "colab_type": "text"
      },
      "source": [
        "# **Exercícios do Módulo de Listas**"
      ]
    },
    {
      "cell_type": "markdown",
      "metadata": {
        "id": "ysmfW4eAdY97",
        "colab_type": "text"
      },
      "source": [
        "Exercicio N1 -> Crie um bot de agenda de contatos\n",
        "você deverá criar uma estrutura de dados em lista onde cada elemento da lista receba um dicionario com o contato (Nome, endereço, Telefone)\n",
        "o Bot deverá ser capaz de passar as informações dos contatos."
      ]
    },
    {
      "cell_type": "code",
      "metadata": {
        "id": "_YZIW5MyddhD",
        "colab_type": "code",
        "colab": {}
      },
      "source": [
        "\n",
        "dados_contatos = {\n",
        "                    'Caiua' : {\n",
        "                        'endereco' : 'Rua Alto da Boa Vista, 183',\n",
        "                        'cel'      : '1',\n",
        "                        'profissao' : 'Analista de BI'\n",
        "                    },\n",
        "                    'Nadja' : {\n",
        "                        'endereco' : 'Rua Teresina, 22',\n",
        "                        'cel'      : '2',\n",
        "                        'profissao' : 'Controler de Engenharia'\n",
        "                    }              \n",
        "                 }"
      ],
      "execution_count": 0,
      "outputs": []
    },
    {
      "cell_type": "code",
      "metadata": {
        "id": "MrUVU5h1hT5y",
        "colab_type": "code",
        "colab": {}
      },
      "source": [
        "def imprime_contato():\n",
        "  for c in dados_contatos.keys():\n",
        "    print(c)\n",
        "\n",
        "def get_contato(contato):\n",
        "  return dados_contatos.get(contato)"
      ],
      "execution_count": 0,
      "outputs": []
    },
    {
      "cell_type": "code",
      "metadata": {
        "id": "TcEw2rsg0GFp",
        "colab_type": "code",
        "outputId": "84ef47f4-d153-41d1-c092-8b4328b8486c",
        "colab": {
          "base_uri": "https://localhost:8080/",
          "height": 187
        }
      },
      "source": [
        "print('Bem vindo ao seu assistente virtual de agenda de contatos, em que posso lhe ajudar:')\n",
        "print('Seus Contatos: ')\n",
        "print(imprime_contato())\n",
        "conta = input('Digite o Nome do Contato:')\n",
        "print('Segue as Informações:')\n",
        "get_contato(conta)"
      ],
      "execution_count": 33,
      "outputs": [
        {
          "output_type": "stream",
          "text": [
            "Bem vindo ao seu assistente virtual de agenda de contatos, em que posso lhe ajudar:\n",
            "Seus Contatos: \n",
            "Caiua\n",
            "Nadja\n",
            "None\n",
            "Digite o Nome do Contato:Caiua\n",
            "Segue as Informações:\n"
          ],
          "name": "stdout"
        },
        {
          "output_type": "execute_result",
          "data": {
            "text/plain": [
              "{'cel': '1',\n",
              " 'endereco': 'Rua Alto da Boa Vista, 183',\n",
              " 'profissao': 'Analista de BI'}"
            ]
          },
          "metadata": {
            "tags": []
          },
          "execution_count": 33
        }
      ]
    }
  ]
}
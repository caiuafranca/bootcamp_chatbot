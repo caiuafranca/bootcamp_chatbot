{
  "nbformat": 4,
  "nbformat_minor": 0,
  "metadata": {
    "colab": {
      "name": "GoogleColab.ipynb",
      "version": "0.3.2",
      "provenance": [],
      "collapsed_sections": [],
      "include_colab_link": true
    },
    "kernelspec": {
      "name": "python3",
      "display_name": "Python 3"
    }
  },
  "cells": [
    {
      "cell_type": "markdown",
      "metadata": {
        "id": "view-in-github",
        "colab_type": "text"
      },
      "source": [
        "<a href=\"https://colab.research.google.com/github/caiuafranca/bootcamp_chatbot/blob/master/GoogleColab.ipynb\" target=\"_parent\"><img src=\"https://colab.research.google.com/assets/colab-badge.svg\" alt=\"Open In Colab\"/></a>"
      ]
    },
    {
      "cell_type": "markdown",
      "metadata": {
        "id": "V4QzAwovuE0r",
        "colab_type": "text"
      },
      "source": [
        "**https://colab.research.google.com**"
      ]
    },
    {
      "cell_type": "code",
      "metadata": {
        "id": "kzbcjqkW3XSv",
        "colab_type": "code",
        "colab": {
          "base_uri": "https://localhost:8080/",
          "height": 34
        },
        "outputId": "020f0cc4-4dde-44f1-bb2b-51828dbc91e5"
      },
      "source": [
        "# numeros inteiros\n",
        "numero_inteiro = 1\n",
        "\n",
        "print(type(numero_inteiro))\n"
      ],
      "execution_count": 14,
      "outputs": [
        {
          "output_type": "stream",
          "text": [
            "<class 'int'>\n"
          ],
          "name": "stdout"
        }
      ]
    },
    {
      "cell_type": "code",
      "metadata": {
        "id": "tNz6KWDW3jGK",
        "colab_type": "code",
        "colab": {
          "base_uri": "https://localhost:8080/",
          "height": 34
        },
        "outputId": "110e9aee-6a11-47cf-f360-635bb183f986"
      },
      "source": [
        "# numero float\n",
        "numero_float = 3.5\n",
        "\n",
        "print(type(numero_float))"
      ],
      "execution_count": 15,
      "outputs": [
        {
          "output_type": "stream",
          "text": [
            "<class 'float'>\n"
          ],
          "name": "stdout"
        }
      ]
    },
    {
      "cell_type": "code",
      "metadata": {
        "id": "gvZr37Wc7Jwi",
        "colab_type": "code",
        "colab": {
          "base_uri": "https://localhost:8080/",
          "height": 34
        },
        "outputId": "dff2c62f-b1e9-4ae8-824d-4a9d63b9955a"
      },
      "source": [
        "# tipo bool\n",
        "\n",
        "tipo_bool = True\n",
        "\n",
        "print(type(tipo_bool))\n"
      ],
      "execution_count": 17,
      "outputs": [
        {
          "output_type": "stream",
          "text": [
            "<class 'bool'>\n"
          ],
          "name": "stdout"
        }
      ]
    },
    {
      "cell_type": "code",
      "metadata": {
        "id": "m7_WBxw27aw-",
        "colab_type": "code",
        "colab": {
          "base_uri": "https://localhost:8080/",
          "height": 34
        },
        "outputId": "a678e03f-e449-49c8-b506-855b6d9a1da9"
      },
      "source": [
        "# tipo dicionario\n",
        "\n",
        "tipo_dic = {}\n",
        "\n",
        "print(type(tipo_dic))\n"
      ],
      "execution_count": 18,
      "outputs": [
        {
          "output_type": "stream",
          "text": [
            "<class 'dict'>\n"
          ],
          "name": "stdout"
        }
      ]
    }
  ]
}
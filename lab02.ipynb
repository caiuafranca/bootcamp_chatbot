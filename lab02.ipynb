{
  "nbformat": 4,
  "nbformat_minor": 0,
  "metadata": {
    "colab": {
      "name": "Copy of Copy of lab02.ipynb",
      "version": "0.3.2",
      "provenance": [],
      "private_outputs": true,
      "collapsed_sections": [
        "PM7ZJ9B2j1Ee",
        "AqykVfW9nLsD",
        "wJxkY8uwpL6B",
        "Si6lD9ztr9i2",
        "o7S4v2Lrvfq-"
      ],
      "include_colab_link": true
    },
    "kernelspec": {
      "name": "python3",
      "display_name": "Python 3"
    },
    "accelerator": "GPU"
  },
  "cells": [
    {
      "cell_type": "markdown",
      "metadata": {
        "id": "view-in-github",
        "colab_type": "text"
      },
      "source": [
        "<a href=\"https://colab.research.google.com/github/caiuafranca/bootcamp_chatbot/blob/master/lab02.ipynb\" target=\"_parent\"><img src=\"https://colab.research.google.com/assets/colab-badge.svg\" alt=\"Open In Colab\"/></a>"
      ]
    },
    {
      "cell_type": "markdown",
      "metadata": {
        "id": "pWJS7549gsOZ",
        "colab_type": "text"
      },
      "source": [
        "# **>>> Passos para a realização LAB02:**\n",
        "---\n",
        "\n",
        "\n",
        "1. Clique em FILE;\n",
        "2. Clique em SAVE A COPY IN DRIVE;\n",
        "3. Realize os exercícios;\n",
        "4. Envie-nos link de seu notebook para que possamos avaliar os exercícios realizados;"
      ]
    },
    {
      "cell_type": "markdown",
      "metadata": {
        "id": "aHfp3XbjtZW1",
        "colab_type": "text"
      },
      "source": [
        "# **>>> Fase 1**\n",
        "\n",
        "---\n",
        "\n",
        "Utilize PRINT, INPUT e OPERADORES ARITMÉTICOS"
      ]
    },
    {
      "cell_type": "markdown",
      "metadata": {
        "id": "GynmvBixtfhU",
        "colab_type": "text"
      },
      "source": [
        "***1. Faça um Programa que mostre a mensagem \"Alo mundo\" na tela.***\n"
      ]
    },
    {
      "cell_type": "code",
      "metadata": {
        "id": "Q-LRYy4kfu65",
        "colab_type": "code",
        "colab": {}
      },
      "source": [
        "print('Alo mundo')"
      ],
      "execution_count": 0,
      "outputs": []
    },
    {
      "cell_type": "markdown",
      "metadata": {
        "id": "YOysMIbJt2ek",
        "colab_type": "text"
      },
      "source": [
        "***2. Faça um Programa que peça um número X e então mostre a mensagem O número informado foi X***"
      ]
    },
    {
      "cell_type": "code",
      "metadata": {
        "id": "bu19ofIpfvnY",
        "colab_type": "code",
        "colab": {}
      },
      "source": [
        "numero = input('Digite um Número')\n",
        "\n",
        "print(f\"O Número digitado foi: {numero}\")"
      ],
      "execution_count": 0,
      "outputs": []
    },
    {
      "cell_type": "markdown",
      "metadata": {
        "id": "Xz6q57w2f2vA",
        "colab_type": "text"
      },
      "source": [
        "***3. Faça um Programa que peça dois números e imprima a diferença numérica entre eles.***"
      ]
    },
    {
      "cell_type": "code",
      "metadata": {
        "id": "MwNvCvW_f4PB",
        "colab_type": "code",
        "colab": {}
      },
      "source": [
        "numero_1 = int(input('Digite o primeiro numero'))\n",
        "numero_2 = int(input('Digite o segundo numero'))\n",
        "\n",
        "sub = numero_1 - numero_2\n",
        "\n",
        "print(f'o resultado da subtração do numero 1 pelo numero 2 é : {sub}')"
      ],
      "execution_count": 0,
      "outputs": []
    },
    {
      "cell_type": "markdown",
      "metadata": {
        "id": "eEZtrURSf4jn",
        "colab_type": "text"
      },
      "source": [
        "***4. Faça um Programa que peça as 4 notas bimestrais e mostre a média.***"
      ]
    },
    {
      "cell_type": "code",
      "metadata": {
        "id": "YwSkumLyf6LI",
        "colab_type": "code",
        "colab": {}
      },
      "source": [
        "numero_1 = int(input('Digite o primeiro bimestre'))\n",
        "numero_2 = int(input('Digite o segundo bimestre'))\n",
        "numero_3 = int(input('Digite o terceiro bimestre'))\n",
        "numero_4 = int(input('Digite o quarto bimestre'))\n",
        "\n",
        "media = (numero_1 + numero_2 + numero_3 + numero_4)/4\n",
        "\n",
        "print(f\"A media do Aluno é: {media}\")\n"
      ],
      "execution_count": 0,
      "outputs": []
    },
    {
      "cell_type": "markdown",
      "metadata": {
        "id": "icYHPmr3f6a4",
        "colab_type": "text"
      },
      "source": [
        "***5. Faça um Programa que converta metros para centímetros.***"
      ]
    },
    {
      "cell_type": "code",
      "metadata": {
        "id": "aQoyddRcf77o",
        "colab_type": "code",
        "colab": {}
      },
      "source": [
        "metro = float(input('Digite a quantidade de metros que deseja a conversão: '))\n",
        "\n",
        "centimetro = metro*100\n",
        "\n",
        "print(f'o resultado da sua conversão é: {centimetro} cm')"
      ],
      "execution_count": 0,
      "outputs": []
    },
    {
      "cell_type": "markdown",
      "metadata": {
        "id": "pQZHW3bOf8H4",
        "colab_type": "text"
      },
      "source": [
        "***6. Faça um Programa que peça o raio de um círculo, calcule e mostre sua área.***"
      ]
    },
    {
      "cell_type": "code",
      "metadata": {
        "id": "t5hQEhtlf9Qo",
        "colab_type": "code",
        "colab": {}
      },
      "source": [
        "raio = float(input('raio de um círculo que deseja saber a area'))\n",
        "area = 3.14*(raio**2)\n",
        "\n",
        "print(f\"a area do circulo digitado é: {area}\")\n"
      ],
      "execution_count": 0,
      "outputs": []
    },
    {
      "cell_type": "markdown",
      "metadata": {
        "id": "OwTPQCiyf914",
        "colab_type": "text"
      },
      "source": [
        "***7. Faça um Programa que calcule a área de um quadrado, em seguida mostre o dobro desta área para o usuário.***"
      ]
    },
    {
      "cell_type": "code",
      "metadata": {
        "id": "2Nc97Mnjf_FZ",
        "colab_type": "code",
        "colab": {}
      },
      "source": [
        "base = float(input('Digite o tamanho da Base'))\n",
        "altura = float(input('Digite o tamanho da altura'))\n",
        "\n",
        "area = base * altura\n",
        "\n",
        "print(f\"A Area 2x da area de informada {area*2}\")"
      ],
      "execution_count": 0,
      "outputs": []
    },
    {
      "cell_type": "markdown",
      "metadata": {
        "id": "n8WoQl38f_Rg",
        "colab_type": "text"
      },
      "source": [
        "***8. Faça um Programa que pergunte quanto você ganha por hora e o número de horas trabalhadas no mês. Calcule e mostre o total do seu salário no referido mês.***"
      ]
    },
    {
      "cell_type": "code",
      "metadata": {
        "id": "VuveSLcXgAuI",
        "colab_type": "code",
        "colab": {}
      },
      "source": [
        "valor_hora = float(input(\" Digite o Valor da sua hora de trabalho:\"))\n",
        "qtd_hora = float(input(\" Digite o quantidade de hora por mes:\"))\n",
        "\n",
        "salario = valor_hora * qtd_hora\n",
        "\n",
        "print(f\"Salario Mensal: R$ {salario}\")"
      ],
      "execution_count": 0,
      "outputs": []
    },
    {
      "cell_type": "markdown",
      "metadata": {
        "id": "FuRmtVNXgA2g",
        "colab_type": "text"
      },
      "source": [
        "***9. Faça um Programa que peça a temperatura em graus Farenheit, transforme e mostre a temperatura em graus Celsius.***"
      ]
    },
    {
      "cell_type": "code",
      "metadata": {
        "id": "pt3BsPO-gDfY",
        "colab_type": "code",
        "colab": {}
      },
      "source": [
        "grau_f = float(input(\"Digite o grau Farenheit:\"))\n",
        "\n",
        "grau_c = (grau_f- 32) / 1.8\n",
        "\n",
        "print(f\"a conversão de graus f para c: {grau_c} °\")"
      ],
      "execution_count": 0,
      "outputs": []
    },
    {
      "cell_type": "markdown",
      "metadata": {
        "id": "uOJg6rSGgDnQ",
        "colab_type": "text"
      },
      "source": [
        "***10. Faça um Programa que peça a temperatura em graus Celsius, transforme e mostre em graus Farenheit.***"
      ]
    },
    {
      "cell_type": "code",
      "metadata": {
        "id": "2TprYwRggE5J",
        "colab_type": "code",
        "colab": {}
      },
      "source": [
        "grau_f = float(input(\"Digite o grau Farenheit:\"))\n",
        "\n",
        "grau_c = (grau_f- 32) / 1.8\n",
        "\n",
        "print(f\"a conversão de graus f para c: {grau_c} °\")"
      ],
      "execution_count": 0,
      "outputs": []
    },
    {
      "cell_type": "markdown",
      "metadata": {
        "id": "Ohfg3rHngFAp",
        "colab_type": "text"
      },
      "source": [
        "***11. Faça um Programa que peça 2 números inteiros e um número floating. Calcule e mostre:***\n",
        "* o produto do dobro do primeiro com metade do segundo .\n",
        "* a soma do triplo do primeiro com o terceiro.\n",
        "* o terceiro elevado ao cubo.\n",
        "\n",
        "\n"
      ]
    },
    {
      "cell_type": "code",
      "metadata": {
        "id": "c9l_lj3_gHEx",
        "colab_type": "code",
        "colab": {}
      },
      "source": [
        "primeiro = int(input(\"Digite o Primeiro Numero: \"))\n",
        "segundo = int(input(\"Digite o Segundo Numero: \"))\n",
        "terceiro = float(input(\"Digite o Terceiro Numero: \"))\n",
        "\n",
        "produto = (2*primeiro)*(segundo/2)\n",
        "soma = (primeiro*3)+ terceiro\n",
        "elevado = terceiro**3"
      ],
      "execution_count": 0,
      "outputs": []
    },
    {
      "cell_type": "markdown",
      "metadata": {
        "id": "N2xT3nEZgHMA",
        "colab_type": "text"
      },
      "source": [
        "***12. Elon comprou um computador para controlar o rendimento diário de seu trabalho. Toda vez que ele traz um peso de peixes maior que o estabelecido pelo regulamento de pesca(10 quilos) deve pagar uma multa de R$ 5,00 por quilo excedente. Elon precisa que você faça um programa que leia a variável peso (dos peixes) e calcule o excesso. Gravar na variável excesso a quantidade de quilos além do limite e na variável multa o valor da multa que deverá pagar. Imprima os dados do programa com as mensagens adequadas.***"
      ]
    },
    {
      "cell_type": "code",
      "metadata": {
        "id": "Keu6SP03gM8J",
        "colab_type": "code",
        "colab": {}
      },
      "source": [
        "franquia = 10.0\n",
        "peso = float(input('Digite a entrada dos kilos:'))\n",
        "\n",
        "if peso > franquia:\n",
        "  excesso = peso - franquia\n",
        "  multa = excesso * 5.0\n",
        "  print(f\"O peso de entrada foi {peso} kg, ouve um excedente de {excesso} kg e o valor da multa a ser paga e de R$ {multa}\")\n",
        "else:\n",
        "  print(f\"O peso de entrada foi {peso} kg , não há excedente, não há multas\")"
      ],
      "execution_count": 0,
      "outputs": []
    },
    {
      "cell_type": "markdown",
      "metadata": {
        "id": "m_CUyLlggNFZ",
        "colab_type": "text"
      },
      "source": [
        "13. Faça um Programa que pergunte quanto você ganha por hora e o número de horas trabalhadas no mês. Calcule e mostre o total do seu salário no referido mês, sabendo-se que são descontados 11% para o Imposto de Renda, 8% para o INSS e 5% para o sindicato, faça um programa que nos printe:\n",
        "* salário bruto.\n",
        "* quanto pagou ao INSS.\n",
        "* quanto pagou ao sindicato.\n",
        "* o salário líquido.\n",
        "\n",
        "Calcule os descontos e o salário líquido, conforme a tabela abaixo:\n",
        "* Salário Bruto : R$\n",
        "* IR (-11%)\n",
        "* INSS (-8%)\n",
        "* Sindicato (-5%)\n",
        "* Salário Liquido\n",
        "* Obs.: Salário Bruto - Descontos = Salário Líquido."
      ]
    },
    {
      "cell_type": "code",
      "metadata": {
        "id": "KudiZgqCgPc5",
        "colab_type": "code",
        "colab": {}
      },
      "source": [
        "valor_hora = float(input('Digite o valor da sua hora de trabalho:'))\n",
        "quantidade_horas_mes = float(input('Digite a quantidade de horas trabalhadas no mês:'))\n",
        "\n",
        "salario_bruto = valor_hora * quantidade_horas_mes\n",
        "ir = salario_bruto * 0.11\n",
        "inss = salario_bruto * 0.08\n",
        "sindicato = salario_bruto * 0.05\n",
        "salario_liquido = (salario_bruto - ir - inss - sindicato)\n",
        "\n",
        "print(f\"Salario bruto no Mês: {salario_bruto}\")\n",
        "print(f\"Desconto de IR (11%) no Mês: {ir}\")\n",
        "print(f\"Desconto INSS (8%) no Mês: {inss}\")\n",
        "print(f\"Desconto Sindical (5%) no Mês: {sindicato}\")\n",
        "print(f\"Salario Liquido no Mês: {salario_liquido}\")"
      ],
      "execution_count": 0,
      "outputs": []
    },
    {
      "cell_type": "markdown",
      "metadata": {
        "id": "OfNr5e4HgPkp",
        "colab_type": "text"
      },
      "source": [
        "14. O programa deverá solicitar o tamanho em metros quadrados da área a ser pintada. Considere que a cobertura da tinta é de 1 litro para cada 3 metros quadrados e que a tinta é vendida em latas de 18 litros, que custam 80 reais. Informe ao usuário a quantidades de latas de tinta a serem compradas e o preço total. Informe ao usuário as quantidades de tinta a serem compradas e os respectivos preços em 3 situações:\n",
        "* comprar apenas latas de 18 litros;\n",
        "* comprar apenas galões de 3,6 litros;\n",
        "* misturar latas e galões, de forma que o preço seja o menor. Acrescente 10% de folga e sempre arredonde os valores para cima, isto é, considere latas cheias."
      ]
    },
    {
      "cell_type": "code",
      "metadata": {
        "id": "_UPHNWEagS8x",
        "colab_type": "code",
        "colab": {}
      },
      "source": [
        "metragem = float(input('Digite a area em m³ a ser pintada'))\n",
        "qtd_litros = metragem/3\n",
        "\n",
        "qtd_latas = qtd_litros/18\n",
        "\n",
        "qtd_galoes = qtd_litros/3.6\n",
        "\n"
      ],
      "execution_count": 0,
      "outputs": []
    },
    {
      "cell_type": "markdown",
      "metadata": {
        "id": "juN9a1REgTHh",
        "colab_type": "text"
      },
      "source": [
        "15. Faça um programa que peça o tamanho de um arquivo para download (em MB) e a velocidade de um link de Internet (em Mbps), calcule e informe o tempo aproximado de download do arquivo usando este link (em minutos)."
      ]
    },
    {
      "cell_type": "code",
      "metadata": {
        "id": "rcnuEk4GjZcR",
        "colab_type": "code",
        "colab": {}
      },
      "source": [
        "tamanho_arq = float(input('Digite o tamanho do Arquivo em MB: '))\n",
        "velocidade_link = float(input('Digite a velocidade do link em Mbps: '))\n",
        "\n",
        "tempo_download = (tamanho_arq / velocidade_link) / 60\n",
        "\n",
        "print(f'o Tempo de Download é {tempo_download} min')"
      ],
      "execution_count": 0,
      "outputs": []
    },
    {
      "cell_type": "markdown",
      "metadata": {
        "id": "PM7ZJ9B2j1Ee",
        "colab_type": "text"
      },
      "source": [
        "# **>>> Fase 2**\n",
        "\n",
        "---\n",
        "\n",
        "Utilize FOR, WHILE, PRINT, INPUT, OPERADORES LÓGICOS/ARITMÉTICOS."
      ]
    },
    {
      "cell_type": "markdown",
      "metadata": {
        "id": "ivWnU_doj3se",
        "colab_type": "text"
      },
      "source": [
        "15. Faça um Programa que peça dois números e imprima o maior deles."
      ]
    },
    {
      "cell_type": "code",
      "metadata": {
        "id": "eSiMSveskCr9",
        "colab_type": "code",
        "colab": {}
      },
      "source": [
        ""
      ],
      "execution_count": 0,
      "outputs": []
    },
    {
      "cell_type": "markdown",
      "metadata": {
        "id": "SsDftb0CkCzt",
        "colab_type": "text"
      },
      "source": [
        "16. Faça um Programa que peça um valor e mostre na tela se o valor é positivo ou negativo."
      ]
    },
    {
      "cell_type": "code",
      "metadata": {
        "id": "eRYCbflmkHBJ",
        "colab_type": "code",
        "colab": {}
      },
      "source": [
        ""
      ],
      "execution_count": 0,
      "outputs": []
    },
    {
      "cell_type": "markdown",
      "metadata": {
        "id": "H-c3TaqUkHKW",
        "colab_type": "text"
      },
      "source": [
        "17. Faça um Programa que verifique se uma letra digitada é \"F\" ou \"M\". Conforme a letra escrever: F - Feminino, M - Masculino, Sexo Inválido."
      ]
    },
    {
      "cell_type": "code",
      "metadata": {
        "id": "p1Iqeu4lkILl",
        "colab_type": "code",
        "colab": {}
      },
      "source": [
        ""
      ],
      "execution_count": 0,
      "outputs": []
    },
    {
      "cell_type": "markdown",
      "metadata": {
        "id": "dN0-HXQDkITF",
        "colab_type": "text"
      },
      "source": [
        "18. Faça um Programa que verifique se uma letra digitada é vogal ou consoante."
      ]
    },
    {
      "cell_type": "code",
      "metadata": {
        "id": "ELXh1Y-kkJfV",
        "colab_type": "code",
        "colab": {}
      },
      "source": [
        ""
      ],
      "execution_count": 0,
      "outputs": []
    },
    {
      "cell_type": "markdown",
      "metadata": {
        "id": "BeBcvYZtkJpV",
        "colab_type": "text"
      },
      "source": [
        "19. Faça um programa para a leitura de duas notas parciais de um aluno. O programa deve calcular a média alcançada por aluno e apresentar:\n",
        "* A mensagem \"Aprovado\", se a média alcançada for maior ou igual a sete;\n",
        "* A mensagem \"Reprovado\", se a média for menor do que sete;\n",
        "* A mensagem \"Aprovado com Distinção\", se a média for igual a dez.\n"
      ]
    },
    {
      "cell_type": "code",
      "metadata": {
        "id": "qtXxLCbOkKrt",
        "colab_type": "code",
        "colab": {}
      },
      "source": [
        ""
      ],
      "execution_count": 0,
      "outputs": []
    },
    {
      "cell_type": "markdown",
      "metadata": {
        "id": "s6TkFauMkK01",
        "colab_type": "text"
      },
      "source": [
        "19. Faça um Programa que leia três números e mostre o maior deles."
      ]
    },
    {
      "cell_type": "code",
      "metadata": {
        "id": "sFXDoa79kTMe",
        "colab_type": "code",
        "colab": {}
      },
      "source": [
        ""
      ],
      "execution_count": 0,
      "outputs": []
    },
    {
      "cell_type": "markdown",
      "metadata": {
        "id": "bx511M3zkTTl",
        "colab_type": "text"
      },
      "source": [
        "20. Faça um Programa que leia três números e mostre o maior e o menor deles."
      ]
    },
    {
      "cell_type": "code",
      "metadata": {
        "id": "HWmZGteWkUNF",
        "colab_type": "code",
        "colab": {}
      },
      "source": [
        ""
      ],
      "execution_count": 0,
      "outputs": []
    },
    {
      "cell_type": "markdown",
      "metadata": {
        "id": "HDakYgBEkUSV",
        "colab_type": "text"
      },
      "source": [
        "21. Faça um programa que pergunte o preço de três produtos e informe qual produto você deve comprar, sabendo que a decisão é sempre pelo mais barato."
      ]
    },
    {
      "cell_type": "code",
      "metadata": {
        "id": "A_Yn0rMskVit",
        "colab_type": "code",
        "colab": {}
      },
      "source": [
        ""
      ],
      "execution_count": 0,
      "outputs": []
    },
    {
      "cell_type": "markdown",
      "metadata": {
        "id": "hsoQjFohkVph",
        "colab_type": "text"
      },
      "source": [
        "22. Faça um Programa que leia três números e mostre-os em ordem decrescente."
      ]
    },
    {
      "cell_type": "code",
      "metadata": {
        "id": "LHWD8QBkkWkV",
        "colab_type": "code",
        "colab": {}
      },
      "source": [
        ""
      ],
      "execution_count": 0,
      "outputs": []
    },
    {
      "cell_type": "markdown",
      "metadata": {
        "id": "8VVCb5EdkWpu",
        "colab_type": "text"
      },
      "source": [
        "22. Faça um Programa que pergunte em que turno você estuda. Peça para digitar M-matutino ou V-Vespertino ou N- Noturno. Imprima a mensagem \"Bom Dia!\", \"Boa Tarde!\" ou \"Boa Noite!\" ou \"Valor Inválido!\", conforme o caso."
      ]
    },
    {
      "cell_type": "code",
      "metadata": {
        "id": "OqBZbJ45kY4V",
        "colab_type": "code",
        "colab": {}
      },
      "source": [
        ""
      ],
      "execution_count": 0,
      "outputs": []
    },
    {
      "cell_type": "markdown",
      "metadata": {
        "id": "nBipKDUVkZC9",
        "colab_type": "text"
      },
      "source": [
        "23. Resolvemos dar um aumento de salário aos nossos cientistas e lhe contratamos para desenvolver o programa que calculará os reajustes.\n",
        "Faça um programa que recebe o salário de um colaborador e o reajuste segundo o seguinte critério, baseado no salário atual:\n",
        "* salários até 280,00 (incluindo) : aumento de 20%\n",
        "* salários entre 280,00 e 700,00 : aumento de 15%\n",
        "* salários entre 700,00 e 1500,00 : aumento de 10%\n",
        "* salários de 1500,00 em diante : aumento de 5% \n",
        "\n",
        "---\n",
        "\n",
        "\n",
        "Após o aumento ser realizado, informe na tela:\n",
        "* o salário antes do reajuste;\n",
        "* o percentual de aumento aplicado;\n",
        "* o valor do aumento;\n",
        "* o novo salário, após o aumento.\n"
      ]
    },
    {
      "cell_type": "code",
      "metadata": {
        "id": "5e_kLO9EkeIF",
        "colab_type": "code",
        "colab": {}
      },
      "source": [
        ""
      ],
      "execution_count": 0,
      "outputs": []
    },
    {
      "cell_type": "markdown",
      "metadata": {
        "id": "-lZLI2SfkeRd",
        "colab_type": "text"
      },
      "source": [
        "24. Faça um programa para o cálculo de uma folha de pagamento, sabendo que os descontos são do Imposto de Renda, que depende do salário bruto (conforme tabela abaixo) e 3% para o Sindicato e que o FGTS corresponde a 11% do Salário Bruto, mas não é descontado (é a empresa que deposita). O Salário Líquido corresponde ao Salário Bruto menos os descontos. O programa deverá pedir ao usuário o valor da sua hora e a quantidade de horas trabalhadas no mês.\n",
        "<br>Desconto do IR:\n",
        "* Salário Bruto até 900 (inclusive) - isento\n",
        "* Salário Bruto até 1500 (inclusive) - desconto de 5%\n",
        "* Salário Bruto até 2500 (inclusive) - desconto de 10%\n",
        "* Salário Bruto acima de 2500 - desconto de 20% \n",
        "\n",
        "---\n",
        "Imprima na tela as informações, dispostas conforme o exemplo abaixo. No exemplo o valor da hora é 5 e a quantidade de hora é 220.\n",
        "* Salário Bruto: (5 * 220) : 1100,00\n",
        "* IR (5%): 55,00  \n",
        "* INSS ( 10%):  110,00\n",
        "* FGTS (11%) : 121,00\n",
        "* Total de descontos: 165,00\n",
        "* Salário Liquido: 935,00\n"
      ]
    },
    {
      "cell_type": "code",
      "metadata": {
        "id": "DatNqXYwkgGe",
        "colab_type": "code",
        "colab": {}
      },
      "source": [
        ""
      ],
      "execution_count": 0,
      "outputs": []
    },
    {
      "cell_type": "markdown",
      "metadata": {
        "id": "JdfJ7My1kgRV",
        "colab_type": "text"
      },
      "source": [
        "25. Faça um Programa que leia um número e exiba o dia correspondente da semana. (1-Domingo, 2- Segunda, etc.), se digitar outro valor deve aparecer valor inválido."
      ]
    },
    {
      "cell_type": "code",
      "metadata": {
        "id": "-z9dgaH7kjBP",
        "colab_type": "code",
        "colab": {}
      },
      "source": [
        ""
      ],
      "execution_count": 0,
      "outputs": []
    },
    {
      "cell_type": "markdown",
      "metadata": {
        "id": "VuEea60wkjOF",
        "colab_type": "text"
      },
      "source": [
        "26. Faça um programa que lê as duas notas parciais obtidas por um aluno numa disciplina ao longo de um semestre, e calcule a sua média. A atribuição de conceitos obedecer à tabela abaixo:\n",
        "* Entre 9.0 e 10.0: A\n",
        "* Entre 7.5 e 9.0:  B\n",
        "* Entre 6.0 e 7.5: C\n",
        "* Entre 4.0 e 6.0: D\n",
        "* Entre 4.0 e zero: E\n",
        "<br>O algoritmo deve mostrar na tela as notas, a média, o conceito correspondente e a mensagem “APROVADO” se o conceito for A, B ou C ou “REPROVADO” se o conceito for D ou E."
      ]
    },
    {
      "cell_type": "code",
      "metadata": {
        "id": "KkQRh6F6nJ0E",
        "colab_type": "code",
        "colab": {}
      },
      "source": [
        ""
      ],
      "execution_count": 0,
      "outputs": []
    },
    {
      "cell_type": "markdown",
      "metadata": {
        "id": "AqykVfW9nLsD",
        "colab_type": "text"
      },
      "source": [
        "# **>>> Fase 3**\n",
        "\n",
        "---\n",
        "\n",
        "Utilize principalmente LISTAS e seus atributos."
      ]
    },
    {
      "cell_type": "markdown",
      "metadata": {
        "id": "Tcxx3fMJnXbS",
        "colab_type": "text"
      },
      "source": [
        "27. Faça um Programa que leia um vetor de 5 números inteiros e mostre-os."
      ]
    },
    {
      "cell_type": "code",
      "metadata": {
        "id": "Qh85QUsCnnNS",
        "colab_type": "code",
        "colab": {}
      },
      "source": [
        ""
      ],
      "execution_count": 0,
      "outputs": []
    },
    {
      "cell_type": "markdown",
      "metadata": {
        "id": "UlIzUSxcnnSC",
        "colab_type": "text"
      },
      "source": [
        "28. Faça um Programa que leia um vetor de 10 números reais e mostre-os na ordem inversa."
      ]
    },
    {
      "cell_type": "code",
      "metadata": {
        "id": "XZ7o3m9mnooi",
        "colab_type": "code",
        "colab": {}
      },
      "source": [
        ""
      ],
      "execution_count": 0,
      "outputs": []
    },
    {
      "cell_type": "markdown",
      "metadata": {
        "id": "QLaQ32rnnovM",
        "colab_type": "text"
      },
      "source": [
        "29. Faça um Programa que leia 4 notas, mostre as notas e a média na tela."
      ]
    },
    {
      "cell_type": "code",
      "metadata": {
        "id": "x1QUVM-Qnp3z",
        "colab_type": "code",
        "colab": {}
      },
      "source": [
        ""
      ],
      "execution_count": 0,
      "outputs": []
    },
    {
      "cell_type": "markdown",
      "metadata": {
        "id": "XuPJ8ROtnqIa",
        "colab_type": "text"
      },
      "source": [
        "30. Faça um Programa que leia um vetor de 10 caracteres, e diga quantas consoantes foram lidas. Imprima as consoantes."
      ]
    },
    {
      "cell_type": "code",
      "metadata": {
        "id": "CAItvzyBnrQS",
        "colab_type": "code",
        "colab": {}
      },
      "source": [
        ""
      ],
      "execution_count": 0,
      "outputs": []
    },
    {
      "cell_type": "markdown",
      "metadata": {
        "id": "2F9DhE5InrXO",
        "colab_type": "text"
      },
      "source": [
        "31. Faça um Programa que leia 20 números inteiros e armazene-os num vetor. Armazene os números pares no vetor PAR e os números IMPARES no vetor impar. Imprima os três vetores."
      ]
    },
    {
      "cell_type": "code",
      "metadata": {
        "id": "lpU6Oy1Wnsaq",
        "colab_type": "code",
        "colab": {}
      },
      "source": [
        ""
      ],
      "execution_count": 0,
      "outputs": []
    },
    {
      "cell_type": "markdown",
      "metadata": {
        "id": "8-YUNThKnsnc",
        "colab_type": "text"
      },
      "source": [
        "32. Faça um Programa que peça as quatro notas de 10 alunos, calcule e armazene num vetor a média de cada aluno, imprima o número de alunos com média maior ou igual a 7.0.\n"
      ]
    },
    {
      "cell_type": "code",
      "metadata": {
        "id": "XXsy7e3YnubL",
        "colab_type": "code",
        "colab": {}
      },
      "source": [
        ""
      ],
      "execution_count": 0,
      "outputs": []
    },
    {
      "cell_type": "markdown",
      "metadata": {
        "id": "8ZfG__9hnuqT",
        "colab_type": "text"
      },
      "source": [
        "33. Faça um Programa que leia um vetor de 5 números inteiros, mostre a soma, a multiplicação e os números.\n"
      ]
    },
    {
      "cell_type": "code",
      "metadata": {
        "id": "B0ZlgBRXnv0b",
        "colab_type": "code",
        "colab": {}
      },
      "source": [
        ""
      ],
      "execution_count": 0,
      "outputs": []
    },
    {
      "cell_type": "markdown",
      "metadata": {
        "id": "H3Bt9V37nv9M",
        "colab_type": "text"
      },
      "source": [
        "34. Faça um Programa que peça a idade e a altura de 5 pessoas, armazene cada informação no seu respectivo vetor. Imprima a idade e a altura na ordem inversa a ordem lida.\n"
      ]
    },
    {
      "cell_type": "code",
      "metadata": {
        "id": "u3ROVILTnxOM",
        "colab_type": "code",
        "colab": {}
      },
      "source": [
        ""
      ],
      "execution_count": 0,
      "outputs": []
    },
    {
      "cell_type": "markdown",
      "metadata": {
        "id": "IVs-wINmnxYj",
        "colab_type": "text"
      },
      "source": [
        "35. Faça um Programa que leia um vetor A com 10 números inteiros, calcule e mostre a soma dos quadrados dos elementos do vetor.\n"
      ]
    },
    {
      "cell_type": "code",
      "metadata": {
        "id": "_HAz2gKlnygM",
        "colab_type": "code",
        "colab": {}
      },
      "source": [
        ""
      ],
      "execution_count": 0,
      "outputs": []
    },
    {
      "cell_type": "markdown",
      "metadata": {
        "id": "uDr-mL8bnys7",
        "colab_type": "text"
      },
      "source": [
        "36. Faça um Programa que leia dois vetores com 10 elementos cada. Gere um terceiro vetor de 20 elementos, cujos valores deverão ser compostos pelos elementos intercalados dos dois outros vetores.\n"
      ]
    },
    {
      "cell_type": "code",
      "metadata": {
        "id": "jNc76IW3n0GD",
        "colab_type": "code",
        "colab": {}
      },
      "source": [
        ""
      ],
      "execution_count": 0,
      "outputs": []
    },
    {
      "cell_type": "markdown",
      "metadata": {
        "id": "6_xetbGBoQ5S",
        "colab_type": "text"
      },
      "source": [
        "37. Altere o programa anterior, intercalando 3 vetores de 10 elementos cada.\n",
        "\n"
      ]
    },
    {
      "cell_type": "code",
      "metadata": {
        "id": "A_VG5GwPoSXK",
        "colab_type": "code",
        "colab": {}
      },
      "source": [
        ""
      ],
      "execution_count": 0,
      "outputs": []
    },
    {
      "cell_type": "markdown",
      "metadata": {
        "id": "DTUIlA8NoShy",
        "colab_type": "text"
      },
      "source": [
        "38. Foram anotadas as idades e alturas de 30 alunos. Faça um Programa que determine quantos alunos com mais de 13 anos possuem altura inferior à média de altura desses alunos."
      ]
    },
    {
      "cell_type": "code",
      "metadata": {
        "id": "WEypvFzjoTEq",
        "colab_type": "code",
        "colab": {}
      },
      "source": [
        ""
      ],
      "execution_count": 0,
      "outputs": []
    },
    {
      "cell_type": "markdown",
      "metadata": {
        "id": "CAU1BvXHn0fD",
        "colab_type": "text"
      },
      "source": [
        "39. Faça um programa que receba a temperatura média de cada mês do ano e armazene-as em uma lista. Após isto, calcule a média anual das temperaturas e mostre todas as temperaturas acima da média anual, e em que mês elas ocorreram (mostrar o mês por extenso: 1 – Janeiro, 2 – Fevereiro, . . . ).\n"
      ]
    },
    {
      "cell_type": "code",
      "metadata": {
        "id": "Z7rErRqgoTwq",
        "colab_type": "code",
        "colab": {}
      },
      "source": [
        ""
      ],
      "execution_count": 0,
      "outputs": []
    },
    {
      "cell_type": "markdown",
      "metadata": {
        "id": "HeStXooyob3C",
        "colab_type": "text"
      },
      "source": [
        "40. Utilizando listas faça um programa que faça 5 perguntas para uma pessoa sobre um crime. As perguntas são:\n",
        "* \"Telefonou para a vítima?\"\n",
        "* \"Esteve no local do crime?\"\n",
        "* \"Mora perto da vítima?\"\n",
        "* \"Devia para a vítima?\"\n",
        "* \"Já trabalhou com a vítima?\" \n",
        "<br>O programa deve no final emitir uma classificação sobre a participação da pessoa no crime. \n",
        "<br>Se a pessoa responder positivamente a 2 questões ela deve ser classificada como \"Suspeita\", entre 3 e 4 como \"Cúmplice\" e 5 como \"Assassino\". Caso contrário, ele será classificado como \"Inocente\"."
      ]
    },
    {
      "cell_type": "code",
      "metadata": {
        "id": "xY2f9om0ocWK",
        "colab_type": "code",
        "colab": {}
      },
      "source": [
        ""
      ],
      "execution_count": 0,
      "outputs": []
    },
    {
      "cell_type": "markdown",
      "metadata": {
        "id": "wJxkY8uwpL6B",
        "colab_type": "text"
      },
      "source": [
        "# **>>> Fase 4**\n",
        "\n",
        "---\n",
        "\n",
        "Utilize principalmente FUNÇÕES."
      ]
    },
    {
      "cell_type": "markdown",
      "metadata": {
        "id": "vydKR6ispVGb",
        "colab_type": "text"
      },
      "source": [
        "41. Faça um programa para imprimir:\n",
        "    <br>1\n",
        "    <br>2   2\n",
        "    <br>3   3   3\n",
        "    <br>.....\n",
        "    <br>n   n   n   n   n   n  ... n\n"
      ]
    },
    {
      "cell_type": "code",
      "metadata": {
        "id": "oOSu1URcqWbT",
        "colab_type": "code",
        "colab": {}
      },
      "source": [
        ""
      ],
      "execution_count": 0,
      "outputs": []
    },
    {
      "cell_type": "markdown",
      "metadata": {
        "id": "9b-jKBy6qWvY",
        "colab_type": "text"
      },
      "source": [
        "42. Use uma função que receba um valor n inteiro e imprima até a n-ésima linha.\n",
        "    <br>1\n",
        "    <br>1   2\n",
        "    <br>1   2   3\n",
        "    <br>.....\n",
        "    <br>1   2   3   ...  n\n",
        "\n"
      ]
    },
    {
      "cell_type": "code",
      "metadata": {
        "id": "5AJBZ03vqe4I",
        "colab_type": "code",
        "colab": {}
      },
      "source": [
        ""
      ],
      "execution_count": 0,
      "outputs": []
    },
    {
      "cell_type": "markdown",
      "metadata": {
        "id": "KO-1k_NpqhZo",
        "colab_type": "text"
      },
      "source": [
        "43. Faça um programa, com uma função que necessite de três argumentos, e que forneça a soma desses três argumentos.\n"
      ]
    },
    {
      "cell_type": "code",
      "metadata": {
        "id": "_MQlpvj9qioZ",
        "colab_type": "code",
        "colab": {}
      },
      "source": [
        ""
      ],
      "execution_count": 0,
      "outputs": []
    },
    {
      "cell_type": "markdown",
      "metadata": {
        "id": "p7tSPZudqixy",
        "colab_type": "text"
      },
      "source": [
        "44. Faça um programa, com uma função que necessite de um argumento. A função retorna o valor de caractere ‘P’, se seu argumento for positivo, e ‘N’, se seu argumento for zero ou negativo.\n"
      ]
    },
    {
      "cell_type": "code",
      "metadata": {
        "id": "x4znVK5Gqj3p",
        "colab_type": "code",
        "colab": {}
      },
      "source": [
        ""
      ],
      "execution_count": 0,
      "outputs": []
    },
    {
      "cell_type": "markdown",
      "metadata": {
        "id": "J6cvE3UWqkCx",
        "colab_type": "text"
      },
      "source": [
        "45. Faça um programa com uma função chamada somaImposto. A função possui dois parâmetros formais: taxaImposto, que é a quantia de imposto sobre vendas expressa em porcentagem e custo, que é o custo de um item antes do imposto. A função “altera” o valor de custo para incluir o imposto sobre vendas.\n"
      ]
    },
    {
      "cell_type": "code",
      "metadata": {
        "id": "-VSRx-5ZqlPw",
        "colab_type": "code",
        "colab": {}
      },
      "source": [
        ""
      ],
      "execution_count": 0,
      "outputs": []
    },
    {
      "cell_type": "markdown",
      "metadata": {
        "id": "BQnJttMwqlVw",
        "colab_type": "text"
      },
      "source": [
        "46. Faça um programa que converta da notação de 24 horas para a notação de 12 horas. Por exemplo, o programa deve converter 14:25 em 2:25 P.M. A entrada é dada em dois inteiros. Deve haver pelo menos duas funções: uma para fazer a conversão e uma para a saída. Registre a informação A.M./P.M. como um valor ‘A’ para A.M. e ‘P’ para P.M. Assim, a função para efetuar as conversões terá um parâmetro formal para registrar se é A.M. ou P.M. Inclua um loop que permita que o usuário repita esse cálculo para novos valores de entrada todas as vezes que desejar.\n"
      ]
    },
    {
      "cell_type": "code",
      "metadata": {
        "id": "_E2al0wmqmlw",
        "colab_type": "code",
        "colab": {}
      },
      "source": [
        ""
      ],
      "execution_count": 0,
      "outputs": []
    },
    {
      "cell_type": "markdown",
      "metadata": {
        "id": "nipd5Ct_qmug",
        "colab_type": "text"
      },
      "source": [
        "47. Faça um programa que use a função valorPagamento para determinar o valor a ser pago por uma prestação de uma conta. O programa deverá solicitar ao usuário o valor da prestação e o número de dias em atraso e passar estes valores para a função valorPagamento, que calculará o valor a ser pago e devolverá este valor ao programa que a chamou. O programa deverá então exibir o valor a ser pago na tela. Após a execução o programa deverá voltar a pedir outro valor de prestação e assim continuar até que seja informado um valor igual a zero para a prestação. Neste momento o programa deverá ser encerrado, exibindo o relatório do dia, que conterá a quantidade e o valor total de prestações pagas no dia. O cálculo do valor a ser pago é feito da seguinte forma. Para pagamentos sem atraso, cobrar o valor da prestação. Quando houver atraso, cobrar 3% de multa, mais 0,1% de juros por dia de atraso.\n"
      ]
    },
    {
      "cell_type": "code",
      "metadata": {
        "id": "u9nPBat6qn9g",
        "colab_type": "code",
        "colab": {}
      },
      "source": [
        ""
      ],
      "execution_count": 0,
      "outputs": []
    },
    {
      "cell_type": "markdown",
      "metadata": {
        "id": "wWmYZHTsqoFw",
        "colab_type": "text"
      },
      "source": [
        "48. Faça uma função que informe a quantidade de dígitos de um determinado número inteiro informado.\n",
        "Reverso do número. Faça uma função que retorne o reverso de um número inteiro informado. Por exemplo: 127 -> 721.\n",
        "\n"
      ]
    },
    {
      "cell_type": "code",
      "metadata": {
        "id": "P6ZNZ1R2qq5H",
        "colab_type": "code",
        "colab": {}
      },
      "source": [
        ""
      ],
      "execution_count": 0,
      "outputs": []
    },
    {
      "cell_type": "markdown",
      "metadata": {
        "id": "w-RRg77SqrFw",
        "colab_type": "text"
      },
      "source": [
        "49. Faça um programa de implemente um jogo de Craps. O jogador lança um par de dados, obtendo um valor entre 2 e 12. Se, na primeira jogada, você tirar 7 ou 11, você um \"natural\" e ganhou. Se você tirar 2, 3 ou 12 na primeira jogada, isto é chamado de \"craps\" e você perdeu. Se, na primeira jogada, você fez um 4, 5, 6, 8, 9 ou 10,este é seu \"Ponto\". Seu objetivo agora é continuar jogando os dados até tirar este número novamente. Você perde, no entanto, se tirar um 7 antes de tirar este Ponto novamente.\n",
        "\n"
      ]
    },
    {
      "cell_type": "code",
      "metadata": {
        "id": "ZQcPjBMBqu_4",
        "colab_type": "code",
        "colab": {}
      },
      "source": [
        ""
      ],
      "execution_count": 0,
      "outputs": []
    },
    {
      "cell_type": "markdown",
      "metadata": {
        "id": "hkCIBwRfqvIA",
        "colab_type": "text"
      },
      "source": [
        "50. Construa uma função que receba uma data no formato DD/MM/AAAA e devolva uma string no formato D de mesPorExtenso de AAAA. Opcionalmente, valide a data e retorne NULL caso a data seja inválida.\n",
        "\n"
      ]
    },
    {
      "cell_type": "code",
      "metadata": {
        "id": "X5LF4S03qwGJ",
        "colab_type": "code",
        "colab": {}
      },
      "source": [
        ""
      ],
      "execution_count": 0,
      "outputs": []
    },
    {
      "cell_type": "markdown",
      "metadata": {
        "id": "XLiMlY2IqwMg",
        "colab_type": "text"
      },
      "source": [
        "51. Construa uma função que receba uma string como parâmetro e devolva outra string com os carateres embaralhados. Por exemplo: se função receber a palavra python, pode retornar npthyo, ophtyn ou qualquer outra combinação possível, de forma aleatória. Padronize em sua função que todos os caracteres serão devolvidos em caixa alta ou caixa baixa, independentemente de como foram digitados.\n",
        "\n"
      ]
    },
    {
      "cell_type": "code",
      "metadata": {
        "id": "lc-a5rYCqxFw",
        "colab_type": "code",
        "colab": {}
      },
      "source": [
        ""
      ],
      "execution_count": 0,
      "outputs": []
    },
    {
      "cell_type": "markdown",
      "metadata": {
        "id": "JisJxrlSqxTz",
        "colab_type": "text"
      },
      "source": [
        "52. Construa uma função que desenhe um retângulo usando os caracteres ‘+’ , ‘−’ e ‘| ‘. Esta função deve receber dois parâmetros, linhas e colunas, sendo que o valor por omissão é o valor mínimo igual a 1 e o valor máximo é 20. Se valores fora da faixa forem informados, eles devem ser modificados para valores dentro da faixa de forma elegante.\n",
        "\n"
      ]
    },
    {
      "cell_type": "code",
      "metadata": {
        "id": "aPNDoaT-qyTo",
        "colab_type": "code",
        "colab": {}
      },
      "source": [
        ""
      ],
      "execution_count": 0,
      "outputs": []
    },
    {
      "cell_type": "markdown",
      "metadata": {
        "id": "HfPRD8tMqyae",
        "colab_type": "text"
      },
      "source": [
        "53. Um quadrado mágico é aquele dividido em linhas e colunas, com um número em cada posição e no qual a soma das linhas, colunas e diagonais é a mesma. Por exemplo, veja um quadrado mágico de lado 3, com números de 1 a 9:\n",
        "\n",
        "8  3  4 \n",
        "1  5  9\n",
        "6  7  2\n"
      ]
    },
    {
      "cell_type": "code",
      "metadata": {
        "id": "AiPokmx6qzbZ",
        "colab_type": "code",
        "colab": {}
      },
      "source": [
        ""
      ],
      "execution_count": 0,
      "outputs": []
    },
    {
      "cell_type": "markdown",
      "metadata": {
        "id": "CHVPWSi2qziA",
        "colab_type": "text"
      },
      "source": [
        "54. Elabore uma função que identifica e mostra na tela todos os quadrados mágicos com as características acima. Dica: produza todas as combinações possíveis e verifique a soma quando completar cada quadrado. Usar um vetor de 1 a 9 parece ser mais simples que usar uma matriz 3x3."
      ]
    },
    {
      "cell_type": "code",
      "metadata": {
        "id": "qAp8f2ufrmH_",
        "colab_type": "code",
        "colab": {}
      },
      "source": [
        ""
      ],
      "execution_count": 0,
      "outputs": []
    },
    {
      "cell_type": "markdown",
      "metadata": {
        "id": "Si6lD9ztr9i2",
        "colab_type": "text"
      },
      "source": [
        "# **>>> Fase 5**\n",
        "\n",
        "---\n",
        "\n",
        "Utilize principalmente CLASSES"
      ]
    },
    {
      "cell_type": "markdown",
      "metadata": {
        "id": "WtOqfMTcsC8v",
        "colab_type": "text"
      },
      "source": [
        "55. Classe Bola: Crie uma classe que modele uma bola:\n",
        "<br>Atributos: Cor, circunferência, material\n",
        "<br>Métodos: trocaCor e mostraCor\n"
      ]
    },
    {
      "cell_type": "code",
      "metadata": {
        "id": "RwnXyuFWsLco",
        "colab_type": "code",
        "colab": {}
      },
      "source": [
        ""
      ],
      "execution_count": 0,
      "outputs": []
    },
    {
      "cell_type": "markdown",
      "metadata": {
        "id": "rCkzwRnWsFaf",
        "colab_type": "text"
      },
      "source": [
        "56. Classe Quadrado: Crie uma classe que modele um quadrado:\n",
        "<br>Atributos: Tamanho do lado\n",
        "<br>Métodos: Mudar valor do Lado, Retornar valor do Lado e calcular Área;\n"
      ]
    },
    {
      "cell_type": "code",
      "metadata": {
        "id": "slFrKJG3sK9p",
        "colab_type": "code",
        "colab": {}
      },
      "source": [
        ""
      ],
      "execution_count": 0,
      "outputs": []
    },
    {
      "cell_type": "markdown",
      "metadata": {
        "id": "gXnq-S2RsHrH",
        "colab_type": "text"
      },
      "source": [
        "57. Classe Retangulo: Crie uma classe que modele um retangulo:\n",
        "<br>Atributos: LadoA, LadoB (ou Comprimento e Largura, ou Base e Altura, a escolher)\n",
        "<br>Métodos: Mudar valor dos lados, Retornar valor dos lados, calcular Área e calcular Perímetro;\n",
        "Crie um programa que utilize esta classe. Ele deve pedir ao usuário que informe as medidades de um local. Depois, deve criar um objeto com as medidas e calcular a quantidade de pisos e de rodapés necessárias para o local.\n"
      ]
    },
    {
      "cell_type": "code",
      "metadata": {
        "id": "PnY4nnNYsJ6_",
        "colab_type": "code",
        "colab": {}
      },
      "source": [
        ""
      ],
      "execution_count": 0,
      "outputs": []
    },
    {
      "cell_type": "markdown",
      "metadata": {
        "id": "yFnG_Nz4sMKf",
        "colab_type": "text"
      },
      "source": [
        "58. Classe Pessoa: Crie uma classe que modele uma pessoa:\n",
        "<br>Atributos: nome, idade, peso e altura\n",
        "<br>Métodos: Envelhercer, engordar, emagrecer, crescer. Obs: Por padrão, a cada ano que nossa pessoa envelhece, sendo a idade dela menor que 21 anos, ela deve crescer 0,5 cm.\n"
      ]
    },
    {
      "cell_type": "code",
      "metadata": {
        "id": "WwXfW1cCsQjP",
        "colab_type": "code",
        "colab": {}
      },
      "source": [
        ""
      ],
      "execution_count": 0,
      "outputs": []
    },
    {
      "cell_type": "markdown",
      "metadata": {
        "id": "DMIBPPUBsQsX",
        "colab_type": "text"
      },
      "source": [
        "59. Classe Conta Corrente: Crie uma classe para implementar uma conta corrente.\n",
        "<br>atributos: número da conta, nome do correntista e saldo. \n",
        "<br>métodos: alterarNome, depósito e saque; No construtor, saldo é opcional, com valor default zero e os demais atributos são obrigatórios.\n"
      ]
    },
    {
      "cell_type": "code",
      "metadata": {
        "id": "IFjFzgLssUMG",
        "colab_type": "code",
        "colab": {}
      },
      "source": [
        ""
      ],
      "execution_count": 0,
      "outputs": []
    },
    {
      "cell_type": "markdown",
      "metadata": {
        "id": "94N4NDzhsUVN",
        "colab_type": "text"
      },
      "source": [
        "60. Classe TV: Faça um programa que simule um televisor criando-o como um objeto. O usuário deve ser capaz de informar o número do canal e aumentar ou diminuir o volume. Certifique-se de que o número do canal e o nível do volume permanecem dentro de faixas válidas.\n",
        "\n"
      ]
    },
    {
      "cell_type": "code",
      "metadata": {
        "id": "j-x6P4w5sV63",
        "colab_type": "code",
        "colab": {}
      },
      "source": [
        ""
      ],
      "execution_count": 0,
      "outputs": []
    },
    {
      "cell_type": "markdown",
      "metadata": {
        "id": "wlxeDxAksWMp",
        "colab_type": "text"
      },
      "source": [
        "61. Classe Bichinho Virtual:Crie uma classe que modele um Tamagushi (Bichinho Eletrônico):\n",
        "<br>Atributos: Nome, Fome, Saúde e Idade b. Métodos: Alterar Nome, Fome, Saúde e Idade; Retornar Nome, Fome, Saúde e Idade\n",
        "<br>Obs: Existe mais uma informação que devemos levar em consideração, o Humor do nosso tamagushi, este humor é uma combinação entre os atributos Fome e Saúde, ou seja, um campo calculado, então não devemos criar um atributo para armazenar esta informação por que ela pode ser calculada a qualquer momento.\n"
      ]
    },
    {
      "cell_type": "code",
      "metadata": {
        "id": "tAELc-AJsX-3",
        "colab_type": "code",
        "colab": {}
      },
      "source": [
        ""
      ],
      "execution_count": 0,
      "outputs": []
    },
    {
      "cell_type": "markdown",
      "metadata": {
        "id": "vP3wvdEgsYKY",
        "colab_type": "text"
      },
      "source": [
        "62. Classe Macaco: Desenvolva uma classe Macaco,que possua os atributos nome e bucho (estomago) e pelo menos os métodos comer(), verBucho() e digerir(). Faça um programa ou teste interativamente, criando pelo menos dois macacos, alimentando-os com pelo menos 3 alimentos diferentes e verificando o conteúdo do estomago a cada refeição. Experimente fazer com que um macaco coma o outro. É possível criar um macaco canibal?\n",
        "\n"
      ]
    },
    {
      "cell_type": "code",
      "metadata": {
        "id": "iNFhpWSCsZ0P",
        "colab_type": "code",
        "colab": {}
      },
      "source": [
        ""
      ],
      "execution_count": 0,
      "outputs": []
    },
    {
      "cell_type": "markdown",
      "metadata": {
        "id": "Ln64ulKesZ83",
        "colab_type": "text"
      },
      "source": [
        "63. Classe Ponto e Retangulo: Faça um programa completo utilizando funções e classes que:\n",
        "<br>Possua uma classe chamada Ponto, com os atributos x e y.\n",
        "<br>Possua uma classe chamada Retangulo, com os atributos largura e altura.\n",
        "<br>Possua uma função para imprimir os valores da classe Ponto\n",
        "<br>Possua uma função para encontrar o centro de um Retângulo.\n",
        "<br>Você deve criar alguns objetos da classe Retangulo.\n",
        "\n",
        "---\n",
        "\n",
        "\n",
        "Cada objeto deve ter um vértice de partida, por exemplo, o vértice inferior esquerdo do retângulo, que deve ser um objeto da classe Ponto.\n",
        "A função para encontrar o centro do retângulo deve retornar o valor para um objeto do tipo ponto que indique os valores de x e y para o centro do objeto.\n",
        "O valor do centro do objeto deve ser mostrado na tela\n",
        "Crie um menu para alterar os valores do retângulo e imprimir o centro deste retângulo.\n"
      ]
    },
    {
      "cell_type": "code",
      "metadata": {
        "id": "-44t0lXqscgk",
        "colab_type": "code",
        "colab": {}
      },
      "source": [
        ""
      ],
      "execution_count": 0,
      "outputs": []
    },
    {
      "cell_type": "markdown",
      "metadata": {
        "id": "n9cB2XgKscrX",
        "colab_type": "text"
      },
      "source": [
        "64. Classe Bomba de Combustível: Faça um programa completo utilizando classes e métodos que:\n",
        "<br>Possua uma classe chamada bombaCombustível, com no mínimo esses atributos:\n",
        "<br>tipoCombustivel.\n",
        "<br>valorLitro\n",
        "<br>quantidadeCombustivel\n",
        "\n",
        "\n",
        "---\n",
        "\n",
        "Possua no mínimo esses métodos:\n",
        "<br>abastecerPorValor( ) – método onde é informado o valor a ser abastecido e mostra a quantidade de litros que foi colocada no veículo\n",
        "<br>abastecerPorLitro( ) – método onde é informado a quantidade em litros de combustível e mostra o valor a ser pago pelo cliente.\n",
        "<br>alterarValor( ) – altera o valor do litro do combustível.\n",
        "<br>alterarCombustivel( ) – altera o tipo do combustível.\n",
        "<br>alterarQuantidadeCombustivel( ) – altera a quantidade de combustível restante na bomba.\n",
        "<br>OBS: Sempre que acontecer um abastecimento é necessário atualizar a quantidade de combustível total na bomba.\n"
      ]
    },
    {
      "cell_type": "code",
      "metadata": {
        "id": "7f71eQ0_senh",
        "colab_type": "code",
        "colab": {}
      },
      "source": [
        ""
      ],
      "execution_count": 0,
      "outputs": []
    },
    {
      "cell_type": "markdown",
      "metadata": {
        "id": "3jqbIpbbseu_",
        "colab_type": "text"
      },
      "source": [
        "65. Classe carro: Implemente uma classe chamada Carro com as seguintes propriedades:\n",
        "<br>Um veículo tem um certo consumo de combustível (medidos em km / litro) e uma certa quantidade de combustível no tanque.\n",
        "<br>O consumo é especificado no construtor e o nível de combustível inicial é 0.\n",
        "<br>Forneça um método andar( ) que simule o ato de dirigir o veículo por uma certa distância, reduzindo o nível de combustível no tanque de gasolina.\n",
        "<br>Forneça um método obterGasolina( ), que retorna o nível atual de combustível.\n",
        "<br>Forneça um método adicionarGasolina( ), para abastecer o tanque. \n",
        "\n",
        "---\n",
        "\n",
        "<br>Exemplo de uso:\n",
        "<br>meuFusca = Carro(15);           # 15 quilômetros por litro de combustível. \n",
        "<br>meuFusca.adicionarGasolina(20); # abastece com 20 litros de combustível. \n",
        "<br>meuFusca.andar(100);            # anda 100 quilômetros.\n",
        "<br>meuFusca.obterGasolina()        # Imprime o combustível que resta no tanque.\n"
      ]
    },
    {
      "cell_type": "code",
      "metadata": {
        "id": "gBMiJlkgsgsB",
        "colab_type": "code",
        "colab": {}
      },
      "source": [
        ""
      ],
      "execution_count": 0,
      "outputs": []
    },
    {
      "cell_type": "markdown",
      "metadata": {
        "id": "WZp3lw0dsg0g",
        "colab_type": "text"
      },
      "source": [
        "66. Classe Conta de Investimento: Faça uma classe contaInvestimento que seja semelhante a classe contaBancaria, com a diferença de que se adicione um atributo taxaJuros. Forneça um construtor que configure tanto o saldo inicial como a taxa de juros. Forneça um método adicioneJuros (sem parâmetro explícito) que adicione juros à conta. Escreva um programa que construa uma poupança com um saldo inicial de 1.000,00 e uma taxa de juros de 10%. Depois aplique o método adicioneJuros() cinco vezes e imprime o saldo resultante.\n",
        "\n"
      ]
    },
    {
      "cell_type": "code",
      "metadata": {
        "id": "B6Ym4tE5sivn",
        "colab_type": "code",
        "colab": {}
      },
      "source": [
        ""
      ],
      "execution_count": 0,
      "outputs": []
    },
    {
      "cell_type": "markdown",
      "metadata": {
        "id": "fqvJEdyOsi4I",
        "colab_type": "text"
      },
      "source": [
        "67. Classe Funcionário: Implemente a classe Funcionário. Um empregado tem um nome (um string) e um salário(um double). Escreva um construtor com dois parâmetros (nome e salário) e métodos para devolver nome e salário. Escreva um pequeno programa que teste sua classe.\n"
      ]
    },
    {
      "cell_type": "code",
      "metadata": {
        "id": "maWpUpfAskdP",
        "colab_type": "code",
        "colab": {}
      },
      "source": [
        ""
      ],
      "execution_count": 0,
      "outputs": []
    },
    {
      "cell_type": "markdown",
      "metadata": {
        "id": "8l5z3ZNOskk_",
        "colab_type": "text"
      },
      "source": [
        "68.Aprimore a classe do exercício anterior para adicionar o método aumentarSalario (porcentualDeAumento) que aumente o salário do funcionário em uma certa porcentagem.\n",
        "\n",
        "---\n",
        "\n",
        "Exemplo de uso:\n",
        "<br>jesus=funcionário(\"Harry\",25000)\n",
        " <br>jesus.aumentarSalario(10)\n"
      ]
    },
    {
      "cell_type": "code",
      "metadata": {
        "id": "NBQ8655hsmNq",
        "colab_type": "code",
        "colab": {}
      },
      "source": [
        ""
      ],
      "execution_count": 0,
      "outputs": []
    },
    {
      "cell_type": "markdown",
      "metadata": {
        "id": "gY5fsIfismZI",
        "colab_type": "text"
      },
      "source": [
        "69. Classe Bichinho Virtual++: Melhore o programa do bichinho virtual(exercicio 61), permitindo que o usuário especifique quanto de comida ele fornece ao bichinho e por quanto tempo ele brinca com o bichinho. Faça com que estes valores afetem quão rapidamente os níveis de fome e tédio caem.\n",
        "\n"
      ]
    },
    {
      "cell_type": "code",
      "metadata": {
        "id": "6DMlBO2lsoyh",
        "colab_type": "code",
        "colab": {}
      },
      "source": [
        ""
      ],
      "execution_count": 0,
      "outputs": []
    },
    {
      "cell_type": "markdown",
      "metadata": {
        "id": "6W_k4NZqspAH",
        "colab_type": "text"
      },
      "source": [
        "70. Crie uma \"porta escondida\" no programa do programa do bichinho virtual que mostre os valores exatos dos atributos do objeto. Consiga isto mostrando o objeto quando uma opção secreta, não listada no menu, for informada na escolha do usuário. Dica: acrescente um método especial str() à classe Bichinho.\n",
        "\n"
      ]
    },
    {
      "cell_type": "code",
      "metadata": {
        "id": "w7dAH_IGsqKX",
        "colab_type": "code",
        "colab": {}
      },
      "source": [
        ""
      ],
      "execution_count": 0,
      "outputs": []
    },
    {
      "cell_type": "markdown",
      "metadata": {
        "id": "TI0lvwhWsqR1",
        "colab_type": "text"
      },
      "source": [
        "71.Crie uma Fazenda de Bichinhos instanciando vários objetos bichinho e mantendo o controle deles através de uma lista. Imite o funcionamento do programa básico, mas ao invés de exigis que o usuário tome conta de um único bichinho, exija que ele tome conta da fazenda inteira. Cada opção do menu deveria permitir que o usuário executasse uma ação para todos os bichinhos (alimentar todos os bichinhos, brincar com todos os bichinhos, ou ouvir a todos os bichinhos). Para tornar o programa mais interessante, dê para cada bichinho um nivel inicial aleatório de fome e tédio."
      ]
    },
    {
      "cell_type": "markdown",
      "metadata": {
        "id": "o7S4v2Lrvfq-",
        "colab_type": "text"
      },
      "source": [
        "# **>>> Fase 6**\n",
        "\n",
        "---\n",
        "\n",
        "Utilize principalmente STRINGS"
      ]
    },
    {
      "cell_type": "markdown",
      "metadata": {
        "id": "-DM4PmkPvkF2",
        "colab_type": "text"
      },
      "source": [
        "72. Tamanho de strings. Faça um programa que leia 2 strings e informe o conteúdo delas seguido do seu comprimento. Informe também se as duas strings possuem o mesmo comprimento e são iguais ou diferentes no conteúdo.\n",
        "\n",
        "---\n",
        "<br>String 1: Brasil Hexa 2006\n",
        "<br>String 2: Brasil! Hexa 2006!\n",
        "<br>Tamanho de \"Brasil Hexa 2006\": 16 caracteres\n",
        "<br>Tamanho de \"Brasil! Hexa 2006!\": 18 caracteres\n",
        "<br>As duas strings são de tamanhos diferentes.\n",
        "<br>As duas strings possuem conteúdo diferente.\n",
        "\n"
      ]
    },
    {
      "cell_type": "code",
      "metadata": {
        "id": "xwumh0JHvyjk",
        "colab_type": "code",
        "colab": {}
      },
      "source": [
        ""
      ],
      "execution_count": 0,
      "outputs": []
    },
    {
      "cell_type": "markdown",
      "metadata": {
        "id": "KhLKRRDFvyv0",
        "colab_type": "text"
      },
      "source": [
        "73. Nome ao contrário em maiúsculas. Faça um programa que permita ao usuário digitar o seu nome e em seguida mostre o nome do usuário de trás para frente utilizando somente letras maiúsculas. Dica: lembre−se que ao informar o nome o usuário pode digitar letras maiúsculas ou minúsculas."
      ]
    },
    {
      "cell_type": "code",
      "metadata": {
        "id": "qlWI8geuv1W1",
        "colab_type": "code",
        "colab": {}
      },
      "source": [
        ""
      ],
      "execution_count": 0,
      "outputs": []
    },
    {
      "cell_type": "markdown",
      "metadata": {
        "id": "HZDl9g_gv1lc",
        "colab_type": "text"
      },
      "source": [
        "74. Nome na vertical. Faça um programa que solicite o nome do usuário e imprima-o na vertical.\n",
        "<br>W\n",
        "<br>E\n",
        "<br>B\n",
        "<br>E\n",
        "<br>R"
      ]
    },
    {
      "cell_type": "code",
      "metadata": {
        "id": "6HjCiczVv99c",
        "colab_type": "code",
        "colab": {}
      },
      "source": [
        ""
      ],
      "execution_count": 0,
      "outputs": []
    },
    {
      "cell_type": "markdown",
      "metadata": {
        "id": "5OiOk6vNv-U1",
        "colab_type": "text"
      },
      "source": [
        "75. Nome na vertical em escada. Modifique o programa anterior de forma a mostrar o nome em formato de escada.\n",
        "<BR>W\n",
        "<BR>WE\n",
        "<BR>WEB\n",
        "<BR>WEBE\n",
        "<BR>WEBER  \n",
        "    "
      ]
    },
    {
      "cell_type": "code",
      "metadata": {
        "id": "mwJ5ykBPwQbH",
        "colab_type": "code",
        "colab": {}
      },
      "source": [
        ""
      ],
      "execution_count": 0,
      "outputs": []
    },
    {
      "cell_type": "markdown",
      "metadata": {
        "id": "23mI2rYJwQkR",
        "colab_type": "text"
      },
      "source": [
        "76. Nome na vertical em escada invertida. Altere o programa anterior de modo que a escada seja invertida.\n",
        "<br>WEBER\n",
        "<br>WEBE\n",
        "<br>WEB\n",
        "<br>WE\n",
        "<br>W"
      ]
    },
    {
      "cell_type": "code",
      "metadata": {
        "id": "fQYaoEHVwXQM",
        "colab_type": "code",
        "colab": {}
      },
      "source": [
        ""
      ],
      "execution_count": 0,
      "outputs": []
    },
    {
      "cell_type": "markdown",
      "metadata": {
        "id": "P2mEIhJOwXvW",
        "colab_type": "text"
      },
      "source": [
        "77. Data por extenso. Faça um programa que solicite a data de nascimento (dd/mm/aaaa) do usuário e imprima a data com o nome do mês por extenso.\n",
        "* (INPUT) Data de Nascimento: 29/10/1973\n",
        "* (OUTPUT) Você nasceu em  29 de Outubro de 1973.\n",
        "\n"
      ]
    },
    {
      "cell_type": "code",
      "metadata": {
        "id": "fs_dBydLwmoE",
        "colab_type": "code",
        "colab": {}
      },
      "source": [
        ""
      ],
      "execution_count": 0,
      "outputs": []
    },
    {
      "cell_type": "markdown",
      "metadata": {
        "id": "jGnOvM-ywm5s",
        "colab_type": "text"
      },
      "source": [
        "78. Conta espaços e vogais. Dado uma string com uma frase informada pelo usuário (incluindo espaços em branco), conte:\n",
        "* quantos espaços em branco existem na frase.\n",
        "* quantas vezes aparecem as vogais a, e, i, o, u."
      ]
    },
    {
      "cell_type": "code",
      "metadata": {
        "id": "1dOrGiRewuv7",
        "colab_type": "code",
        "colab": {}
      },
      "source": [
        ""
      ],
      "execution_count": 0,
      "outputs": []
    },
    {
      "cell_type": "markdown",
      "metadata": {
        "id": "42RxcKtBwu5b",
        "colab_type": "text"
      },
      "source": [
        "79. Palíndromo. Um palíndromo é uma seqüência de caracteres cuja leitura é idêntica se feita da direita para esquerda ou vice−versa. Por exemplo: OSSO e OVO são palíndromos. Em textos mais complexos os espaços e pontuação são ignorados. A frase SUBI NO ONIBUS é o exemplo de uma frase palíndroma onde os espaços foram ignorados. Faça um programa que leia uma seqüência de caracteres, mostre−a e diga se é um palíndromo ou não."
      ]
    },
    {
      "cell_type": "code",
      "metadata": {
        "id": "i4370uCLwypb",
        "colab_type": "code",
        "colab": {}
      },
      "source": [
        ""
      ],
      "execution_count": 0,
      "outputs": []
    },
    {
      "cell_type": "markdown",
      "metadata": {
        "id": "ZGUiNfO3wy4W",
        "colab_type": "text"
      },
      "source": [
        "80. Verificação de CPF. Desenvolva um programa que solicite a digitação de um número de CPF no formato xxx.xxx.xxx-xx e indique se é um número válido ou inválido através da validação dos dígitos verificadores edos caracteres de formatação"
      ]
    },
    {
      "cell_type": "code",
      "metadata": {
        "id": "4UG3raW_w1p-",
        "colab_type": "code",
        "colab": {}
      },
      "source": [
        ""
      ],
      "execution_count": 0,
      "outputs": []
    },
    {
      "cell_type": "markdown",
      "metadata": {
        "id": "62oIcRCdw1ys",
        "colab_type": "text"
      },
      "source": [
        "81. Número por extenso. Escreva um programa que solicite ao usuário a digitação de um número até 99 e imprima-o na tela por extenso.\n",
        "\n"
      ]
    },
    {
      "cell_type": "code",
      "metadata": {
        "id": "e6XOVUwzw5qO",
        "colab_type": "code",
        "colab": {}
      },
      "source": [
        ""
      ],
      "execution_count": 0,
      "outputs": []
    },
    {
      "cell_type": "markdown",
      "metadata": {
        "id": "pd9Zs0oyw6Fr",
        "colab_type": "text"
      },
      "source": [
        "82. Jogo de Forca. Desenvolva um jogo da forca. O programa terá uma lista de palavras lidas de um arquivo texto e escolherá uma aleatoriamente. O jogador poderá errar 6 vezes antes de ser enforcado.\n",
        "\n",
        "\n",
        "---\n",
        "\n",
        "Digite uma letra: A\n",
        "-> Você errou pela 1ª vez. Tente de novo!\n",
        "\n",
        "Digite uma letra: O\n",
        "A palavra é: _ _ _ _ O\n",
        "\n",
        "Digite uma letra: E\n",
        "A palavra é: _ E _ _ O\n",
        "\n",
        "Digite uma letra: S\n",
        "-> Você errou pela 2ª vez. Tente de novo!"
      ]
    },
    {
      "cell_type": "code",
      "metadata": {
        "id": "8DsLmTChxCj7",
        "colab_type": "code",
        "colab": {}
      },
      "source": [
        ""
      ],
      "execution_count": 0,
      "outputs": []
    },
    {
      "cell_type": "markdown",
      "metadata": {
        "id": "ptaZps3OxCwQ",
        "colab_type": "text"
      },
      "source": [
        "83. Valida e corrige número de telefone. Faça um programa que leia um número de telefone celular, e corrija o número no caso deste conter somente 8 dígitos, acrescentando o '9' na frente. O usuário pode informar o número com ou sem o traço separador.\n",
        "\n",
        "---\n",
        "\n",
        "<br>Valida e corrige número de telefone\n",
        "<br>Telefone: 8181-0000\n",
        "<br>Telefone possui 8 dígitos. Vou acrescentar o digito 9 na frente.\n",
        "<br>Telefone corrigido sem formatação: 981810000\n",
        "<br>Telefone corrigido com formatação: 98181-0000"
      ]
    },
    {
      "cell_type": "code",
      "metadata": {
        "id": "PKTQOmhaxMWL",
        "colab_type": "code",
        "colab": {}
      },
      "source": [
        ""
      ],
      "execution_count": 0,
      "outputs": []
    },
    {
      "cell_type": "markdown",
      "metadata": {
        "id": "LnFotsnExM0V",
        "colab_type": "text"
      },
      "source": [
        "84. Jogo da palavra embaralhada. Desenvolva um jogo em que o usuário tenha que adivinhar uma palavra que será mostrada com as letras embaralhadas. O programa terá uma lista de palavras lidas de um arquivo texto e escolherá uma aleatoriamente. O jogador terá seis tentativas para adivinhar a palavra. Ao final a palavra deve ser mostrada na tela, informando se o usuário ganhou ou perdeu o jogo."
      ]
    },
    {
      "cell_type": "code",
      "metadata": {
        "id": "5ww8keIxxgfK",
        "colab_type": "code",
        "colab": {}
      },
      "source": [
        ""
      ],
      "execution_count": 0,
      "outputs": []
    },
    {
      "cell_type": "markdown",
      "metadata": {
        "id": "MpwLATvZxgp7",
        "colab_type": "text"
      },
      "source": [
        "85. Leet spek generator. Leet é uma forma de se escrever o alfabeto latino usando outros símbolos em lugar das letras, como números por exemplo. A própria palavra leet admite muitas variações, como l33t ou 1337. O uso do leet reflete uma subcultura relacionada ao mundo dos jogos de computador e internet, sendo muito usada para confundir os iniciantes e afirmar-se como parte de um grupo. Pesquise sobre as principais formas de traduzir as letras. Depois, faça um programa que peça uma texto e transforme-o para a grafia leet speak."
      ]
    },
    {
      "cell_type": "code",
      "metadata": {
        "id": "yBL4uQrfxj3q",
        "colab_type": "code",
        "colab": {}
      },
      "source": [
        ""
      ],
      "execution_count": 0,
      "outputs": []
    }
  ]
}